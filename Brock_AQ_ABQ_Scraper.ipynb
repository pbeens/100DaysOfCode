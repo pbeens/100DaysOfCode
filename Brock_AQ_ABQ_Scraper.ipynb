{
  "nbformat": 4,
  "nbformat_minor": 0,
  "metadata": {
    "colab": {
      "provenance": [],
      "authorship_tag": "ABX9TyNJUrEhGyK+RxhqfbQIvQR/",
      "include_colab_link": true
    },
    "kernelspec": {
      "name": "python3",
      "display_name": "Python 3"
    },
    "language_info": {
      "name": "python"
    }
  },
  "cells": [
    {
      "cell_type": "markdown",
      "metadata": {
        "id": "view-in-github",
        "colab_type": "text"
      },
      "source": [
        "<a href=\"https://colab.research.google.com/github/pbeens/100DaysOfCode/blob/master/Brock_AQ_ABQ_Scraper.ipynb\" target=\"_parent\"><img src=\"https://colab.research.google.com/assets/colab-badge.svg\" alt=\"Open In Colab\"/></a>"
      ]
    },
    {
      "cell_type": "markdown",
      "source": [
        "# NO LONGER WORKING IN COLAB. SEE...\n",
        "\n",
        "D:\\My Documents\\GitHub\\Personal\\Python\\OTF-PD-Calendar\\Brock_AQ_ABQ_Scraper.ipynb"
      ],
      "metadata": {
        "id": "1VLQ0parP-IP"
      }
    }
  ]
}