{
  "nbformat": 4,
  "nbformat_minor": 0,
  "metadata": {
    "colab": {
      "name": "list_comp.ipynb",
      "provenance": [],
      "collapsed_sections": []
    },
    "kernelspec": {
      "name": "python3",
      "display_name": "Python 3"
    }
  },
  "cells": [
    {
      "cell_type": "markdown",
      "metadata": {
        "id": "ksImikWm3E8I",
        "colab_type": "text"
      },
      "source": [
        "This notebook has been created to help me learn about list comprehension in Python as part of my [#100DaysOfCode](https://github.com/pbeens/100DaysOfCode) project. "
      ]
    },
    {
      "cell_type": "markdown",
      "metadata": {
        "id": "s9Sqq3cjavLx",
        "colab_type": "text"
      },
      "source": [
        "## Resource 1"
      ]
    },
    {
      "cell_type": "markdown",
      "metadata": {
        "id": "yzW7Uu443ceY",
        "colab_type": "text"
      },
      "source": [
        "The first reference I'll be using is [https://www.pythonforbeginners.com/basics/list-comprehensions-in-python](https://www.pythonforbeginners.com/basics/list-comprehensions-in-python).\n",
        "\n",
        "The traditional way opf doing it looks like this:\n",
        "\n",
        "```\n",
        "new_list = []\n",
        "for i in old_list:\n",
        "    if filter(i):\n",
        "        new_list.append(expressions(i))\n",
        "```\n",
        "\n"
      ]
    },
    {
      "cell_type": "code",
      "metadata": {
        "id": "bSDGUTaraCEN",
        "colab_type": "code",
        "colab": {}
      },
      "source": [
        "old_list = [1, 2, 3, 'A', [4, 7]]"
      ],
      "execution_count": 0,
      "outputs": []
    },
    {
      "cell_type": "code",
      "metadata": {
        "id": "udSbTS3X3l9W",
        "colab_type": "code",
        "outputId": "8fa954b3-70ce-4fd8-82b7-4928df196e22",
        "colab": {
          "base_uri": "https://localhost:8080/",
          "height": 34
        }
      },
      "source": [
        "# Old-school example:\n",
        "\n",
        "new_list = []\n",
        "for i in old_list: # loop through items\n",
        "    if i != '': # test condition (not necessary here, but included to show how filtering selecting items works)\n",
        "        new_list.append(i) # append to new list\n",
        "print(new_list) # voila! "
      ],
      "execution_count": 2,
      "outputs": [
        {
          "output_type": "stream",
          "text": [
            "[1, 2, 3, 'A', [4, 7]]\n"
          ],
          "name": "stdout"
        }
      ]
    },
    {
      "cell_type": "markdown",
      "metadata": {
        "id": "QKugw7gmZI-B",
        "colab_type": "text"
      },
      "source": [
        "Redoing the above example in list comprehension looks like this:\n",
        "\n",
        "  ```python\n",
        "  new_list = [expression(i) for i in old_list if filter(i)]\n",
        "  ```\n",
        "\n",
        "This is explained on the resource site as:\n",
        "\n",
        "> new_list:\n",
        "- The new list (result).\n",
        "\n",
        "> expression(i):\n",
        "- Expression is based on the variable used for each element in the old list.\n",
        "\n",
        "> for i in old_list:\n",
        "- The word for followed by the variable name to use, followed by the word in the old list.\n",
        "\n",
        "> if filter(i):\n",
        "- Apply a filter with an If-statement."
      ]
    },
    {
      "cell_type": "code",
      "metadata": {
        "id": "9Z3y5X45ZmfF",
        "colab_type": "code",
        "outputId": "3fb891a0-b852-473b-ff48-fc79665e2c4f",
        "colab": {
          "base_uri": "https://localhost:8080/",
          "height": 34
        }
      },
      "source": [
        "# re-coded using list comprehension:\n",
        "\n",
        "new_list = [i for i in old_list if i != '']\n",
        "print(new_list)"
      ],
      "execution_count": 3,
      "outputs": [
        {
          "output_type": "stream",
          "text": [
            "[1, 2, 3, 'A', [4, 7]]\n"
          ],
          "name": "stdout"
        }
      ]
    },
    {
      "cell_type": "markdown",
      "metadata": {
        "id": "a0oJxkQTcq2K",
        "colab_type": "text"
      },
      "source": [
        "## Some Exercises"
      ]
    },
    {
      "cell_type": "code",
      "metadata": {
        "id": "Zdl8A6mAcsCf",
        "colab_type": "code",
        "outputId": "168b0587-7f1a-402a-bdc0-d8ee7b2564b4",
        "colab": {
          "base_uri": "https://localhost:8080/",
          "height": 34
        }
      },
      "source": [
        "# first 10 numbers\n",
        "print([i for i in range(10)])"
      ],
      "execution_count": 4,
      "outputs": [
        {
          "output_type": "stream",
          "text": [
            "[0, 1, 2, 3, 4, 5, 6, 7, 8, 9]\n"
          ],
          "name": "stdout"
        }
      ]
    },
    {
      "cell_type": "code",
      "metadata": {
        "id": "QofKkSVMc7v7",
        "colab_type": "code",
        "outputId": "ba648b3a-af7b-44d5-fa86-122ac87b9141",
        "colab": {
          "base_uri": "https://localhost:8080/",
          "height": 34
        }
      },
      "source": [
        "# every 2nd number\n",
        "print([i for i in range(10) if i % 2 == 0])"
      ],
      "execution_count": 5,
      "outputs": [
        {
          "output_type": "stream",
          "text": [
            "[0, 2, 4, 6, 8]\n"
          ],
          "name": "stdout"
        }
      ]
    },
    {
      "cell_type": "code",
      "metadata": {
        "id": "vzzYqsuWdTH8",
        "colab_type": "code",
        "outputId": "a88c9c7a-6cae-4b9e-cfb0-26a045c6d778",
        "colab": {
          "base_uri": "https://localhost:8080/",
          "height": 34
        }
      },
      "source": [
        "# print squares\n",
        "print([x*x for x in range(10)])"
      ],
      "execution_count": 6,
      "outputs": [
        {
          "output_type": "stream",
          "text": [
            "[0, 1, 4, 9, 16, 25, 36, 49, 64, 81]\n"
          ],
          "name": "stdout"
        }
      ]
    },
    {
      "cell_type": "code",
      "metadata": {
        "id": "JxfGqpqjdl-b",
        "colab_type": "code",
        "outputId": "d84e9898-35a7-4b6d-c555-d468c36f906f",
        "colab": {
          "base_uri": "https://localhost:8080/",
          "height": 34
        }
      },
      "source": [
        "# print squares but only if the square is divisible by 3, up to x = 100\n",
        "print([x*x for x in range(101) if x*x % 3 == 0]) # note that I have to use '101' to get up to 100"
      ],
      "execution_count": 7,
      "outputs": [
        {
          "output_type": "stream",
          "text": [
            "[0, 9, 36, 81, 144, 225, 324, 441, 576, 729, 900, 1089, 1296, 1521, 1764, 2025, 2304, 2601, 2916, 3249, 3600, 3969, 4356, 4761, 5184, 5625, 6084, 6561, 7056, 7569, 8100, 8649, 9216, 9801]\n"
          ],
          "name": "stdout"
        }
      ]
    },
    {
      "cell_type": "code",
      "metadata": {
        "id": "gggqDb0SeZmQ",
        "colab_type": "code",
        "outputId": "853ebd93-a1eb-4dc6-a62a-d1657cd0ce0a",
        "colab": {
          "base_uri": "https://localhost:8080/",
          "height": 51
        }
      },
      "source": [
        "# let's extract every first letter of a list of words\n",
        "s = 'The woods are lovely, dark and deep, But I have promises to keep, and miles to go before I sleep'\n",
        "s2 = [word[0].lower() for word in s.split()]\n",
        "print(s2)\n",
        "# with poem credit to Robert Frost\n",
        "\n",
        "# to assemble the letters we can use join()\n",
        "print(''.join(s2))"
      ],
      "execution_count": 8,
      "outputs": [
        {
          "output_type": "stream",
          "text": [
            "['t', 'w', 'a', 'l', 'd', 'a', 'd', 'b', 'i', 'h', 'p', 't', 'k', 'a', 'm', 't', 'g', 'b', 'i', 's']\n",
            "twaldadbihptkamtgbis\n"
          ],
          "name": "stdout"
        }
      ]
    },
    {
      "cell_type": "markdown",
      "metadata": {
        "id": "2jpxdgBu3rqc",
        "colab_type": "text"
      },
      "source": [
        "---\n",
        "\n",
        "The original of this notebook can be found at https://colab.research.google.com/drive/1fbmH9yDS5fzFcxEZMnUzmb3qCqGQoaEv"
      ]
    }
  ]
}